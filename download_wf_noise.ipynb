{
 "cells": [
  {
   "cell_type": "markdown",
   "id": "ced9f047",
   "metadata": {},
   "source": [
    "# Download Waveform Accelerometer\n",
    "# Ambient Noise (Midnight)\n",
    "Working Group Member 3 BMKG\n",
    "\n",
    "***Authors:***\n",
    "1.  Iman Fatchurochman, S.Si, M.DM\n",
    "2.  Nova Heryandoko, S.Si, M.Si\n",
    "3.  Ajat Sudrajat, M.Sc\n",
    "4.  Bayu Pranata, M.Si\n",
    "5.  Arif Nurokhim\n",
    "6.  Kian Purna Sinki, SST, M.DM\n",
    "7.  Melky Adi Kurniawan, S.Si\n",
    "8.  Robby Wallansha, S.Tr\n",
    "9.  Abdul Rosid, S.Tr, M.DM\n",
    "10. Muhammad Fahmi Nugraha, S.Tr\n",
    "11. Sesar Prabu Dwi Sriyanto\n",
    "12. Ade Andika Saputra, S.Tr.Geof.\n",
    "13. Rosi Budi Kurniawan, S.Tr.Geof.\n",
    "14. Angga Wijaya, S.Tr.Geof."
   ]
  },
  {
   "cell_type": "code",
   "execution_count": null,
   "id": "799ae3cc",
   "metadata": {},
   "outputs": [],
   "source": [
    "# Import Module\n",
    "import os\n",
    "import sys\n",
    "from obspy import UTCDateTime\n",
    "from obspy.clients.fdsn import Client"
   ]
  },
  {
   "cell_type": "code",
   "execution_count": null,
   "id": "a72f6351",
   "metadata": {},
   "outputs": [],
   "source": [
    "# Get parameter\n",
    "dirf = sys.argv[1] # 20190106T172721_12675_0234_56_66\n",
    "\n",
    "# Server FDSN Accelerometer\n",
    "client = Client(\"http://172.19.3.212:8080/\")\n",
    "\n",
    "# Datetime noise 17-19 UTC\n",
    "ot_noise = dirf.split(\"T\")\n",
    "ot_noise_start = UTCDateTime(f\"{ot_noise[0]}T17:00:00\")\n",
    "ot_noise_end = UTCDateTime(f\"{ot_noise[0]}T19:00:00\")\n",
    "\n",
    "# Directory\n",
    "if not os.path.isdir(dirf):\n",
    "    os.mkdir(dirf)\n",
    "if not os.path.isdir(dirf + '/noises'):\n",
    "    os.mkdir(dirf + '/noises')\n",
    "if not os.path.isdir(dirf + '/earthquakes'):\n",
    "    os.mkdir(dirf + '/earthquakes')\n",
    "\n",
    "# Read data station txt\n",
    "file = open(dirf + '/earthquakes/station_fix.txt')\n",
    "sta = file.readlines()\n",
    "file.close()\n",
    "\n",
    "for i in range(len(sta)):\n",
    "    sta[i] = sta[i].split()\n",
    "\n",
    "# Create use epicenter txt\n",
    "staUpdate = open(dirf + '/sta_noise.txt', 'w')\n",
    "\n",
    "for s in sta:\n",
    "    if os.path.exists(dirf + '/noises/' + s[0] + 'noise.mseed'):\n",
    "        continue\n",
    "    else:\n",
    "        try:\n",
    "            st_noise = client.get_waveforms(\"IA\", s[0], \"*\", \"HN?\", ot_noise_start, ot_noise_end)\n",
    "        except:\n",
    "            try:\n",
    "                st_noise = client.get_waveforms(\"IA\", s[0], \"*\", \"SL?\", ot_noise_start, ot_noise_end)\n",
    "            except:\n",
    "                print(s[0], ot_noise_start, ot_noise_end, 'No Data')\n",
    "                continue\n",
    "\n",
    "    st_noise.merge(method=1, fill_value=\"interpolate\")\n",
    "\n",
    "    if st_noise.count() < 3:\n",
    "        print(s[0], 'Not full')\n",
    "        continue\n",
    "\n",
    "    st_noise.write(dirf + '/noises/' + s[0] + 'noise.mseed')\n",
    "    st_noise.plot(equal_scale='False', outfile=dirf + \"/noises/waveform_\" + s[0] + \"noise.png\")\n",
    "\n",
    "    staUpdate.write(f\"{s[0]}\\n\")\n",
    "\n",
    "staUpdate.close()"
   ]
  }
 ],
 "metadata": {
  "kernelspec": {
   "display_name": "Python 3",
   "language": "python",
   "name": "python3"
  },
  "language_info": {
   "codemirror_mode": {
    "name": "ipython",
    "version": 3
   },
   "file_extension": ".py",
   "mimetype": "text/x-python",
   "name": "python",
   "nbconvert_exporter": "python",
   "pygments_lexer": "ipython3",
   "version": "3.8.12"
  }
 },
 "nbformat": 4,
 "nbformat_minor": 5
}
